{
 "cells": [
  {
   "cell_type": "code",
   "execution_count": null,
   "metadata": {},
   "outputs": [],
   "source": [
    "from luwiji.flask_api import illustration"
   ]
  },
  {
   "cell_type": "markdown",
   "metadata": {},
   "source": [
    "# Apa itu internet\n",
    "\n",
    "Internet bagaikan sebuah [jalan raya](https://www.submarinecablemap.com) yang menghubungkan komputer yang satu dengan lainnya untuk berkomunikasi atau transfer data. Ada 2 jenis komputer di internet: Client dan Server.\n",
    "\n",
    "Misalnya si client ingin membuka halaman `www.google.com`, maka yang terjadi adalah si client butuh alamat server Google. Alamat tersebut disebut sebagai `IP Address`.\n",
    "\n",
    "Dari client akan mencari IP address di DNS Server. DNS server itu seperti buku telepon, dari sanalah si client peroleh bahwa alamat server google adalah `216.58.210.46`\n",
    "\n",
    "Itu semua tentunya dibantu oleh Internet Service Provider (ISP). Kita membayar ISP untuk mendapatkan akses ke internet ini."
   ]
  },
  {
   "cell_type": "code",
   "execution_count": null,
   "metadata": {},
   "outputs": [],
   "source": [
    "illustration.internet"
   ]
  },
  {
   "cell_type": "markdown",
   "metadata": {},
   "source": [
    "# Komunikasi\n",
    "\n",
    "Jadi komunikasi antara client dan server di internet berupa `request` dan `response`. Analoginya\n",
    "```\n",
    "Client = pelanggan = request\n",
    "Server = pelayan = response\n",
    "```\n",
    "\n",
    "Cara kita request disebut sebagai protokol. Misalnya untuk file transfer, itu namanya `file transfer protocol (ftp)`. Kalau untuk transfer web page namanya `hypertext transfer protocol (http)`. Analoginya\n",
    "```\n",
    "Kalau mau pesan = minta menu\n",
    "Kalau mau bayar = minta bill\n",
    "```\n",
    "\n",
    "Ketika kita sebagai pelanggan mau pesan sesuatu, pasti tidak bisa sembarang pesan. Hanya makanan tertentu yang tersedia, dan itu di list dalam menu. Menu makanan itu kita sebut sebagai `API`. Jadi dari sisi server pun sudah ada servis\" tertentu yang tersedia yang bisa diakses oleh client."
   ]
  },
  {
   "cell_type": "code",
   "execution_count": null,
   "metadata": {},
   "outputs": [],
   "source": [
    "illustration.http"
   ]
  }
 ],
 "metadata": {
  "kernelspec": {
   "display_name": "Python [conda env:jcop]",
   "language": "python",
   "name": "conda-env-jcop-py"
  },
  "language_info": {
   "codemirror_mode": {
    "name": "ipython",
    "version": 3
   },
   "file_extension": ".py",
   "mimetype": "text/x-python",
   "name": "python",
   "nbconvert_exporter": "python",
   "pygments_lexer": "ipython3",
   "version": "3.7.6"
  }
 },
 "nbformat": 4,
 "nbformat_minor": 2
}
